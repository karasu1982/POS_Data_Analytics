{
  "nbformat": 4,
  "nbformat_minor": 0,
  "metadata": {
    "colab": {
      "provenance": [],
      "authorship_tag": "ABX9TyN6jLBNot3MOXZCtZwaD2EC",
      "include_colab_link": true
    },
    "kernelspec": {
      "name": "python3",
      "display_name": "Python 3"
    },
    "language_info": {
      "name": "python"
    }
  },
  "cells": [
    {
      "cell_type": "markdown",
      "metadata": {
        "id": "view-in-github",
        "colab_type": "text"
      },
      "source": [
        "<a href=\"https://colab.research.google.com/github/karasu1982/POS_Data_Analytics/blob/main/ABC%E5%88%86%E6%9E%90.ipynb\" target=\"_parent\"><img src=\"https://colab.research.google.com/assets/colab-badge.svg\" alt=\"Open In Colab\"/></a>"
      ]
    },
    {
      "cell_type": "markdown",
      "source": [
        "# ABC分析\n",
        "\n",
        "ABC分析は、商品の売上や在庫を分析するための第一歩といえる分析です。\n",
        "\n",
        "売上を在庫金額を上位から並べていって、A・B・Cランクと分けていくことが基本的な流れです。\n",
        "\n",
        "ランクを分ける基準としては、Aランクを売上上位70%（または80%）、Bランクでは同90%（Cランクは残り）と出すことが一般的です。\n",
        "\n",
        "※ここでいう70%といった割合は商品数ではなく、「売上が上位の商品から並べて累積売上を出したときに、売上全体に占める割合」として出した数値です。\n",
        "\n",
        "\n",
        "Aランクの商品数が、全体の商品数の何%なのかを見ることで、売上の大部分をどの程度の商品に頼っているのかを見ることができます。\n",
        "\n",
        "パレートの法則では、よく２：８（または３：７）の法則といわれ、上位の２０％の商品で売上の８０％を占めるといわれています。"
      ],
      "metadata": {
        "id": "IeXt1E0WJbtV"
      }
    },
    {
      "cell_type": "markdown",
      "source": [
        "## 集計・分析のプログラムについての注意点\n",
        "\n",
        "データ集計は、Pythonで行うパターンとSQLで行うパターンを、自分なりに最適と思う基準で分けています。\n",
        "\n",
        "実践を考えたときに、多くのビジネスシーンで、元データ（今回はPOSデータ）がDWH（BigQueryやSnowflakeなどのクラウドも含めたSQLサーバ）に格納されている。それを、集計をするためにわざわざPythonでデータを取得し、Pandasに入れて集計するといったことが適さないケースが多いためです。\n",
        "\n",
        "ただし、SQLのみで書いてしまうと自身でサーバを用意しないと、実行することができなくなってしまうため、[DuckDB](https://zenn.dev/paxdare_labo/articles/99c4e373a9fb58)を用いてSQLライクな実行を行っていきたいと思います。"
      ],
      "metadata": {
        "id": "IbnkCXe6JfXR"
      }
    },
    {
      "cell_type": "markdown",
      "source": [
        "## 環境設定"
      ],
      "metadata": {
        "id": "dAQQzM_IxDFY"
      }
    },
    {
      "cell_type": "code",
      "source": [
        "%%bash\n",
        "pip install duckdb-engine"
      ],
      "metadata": {
        "colab": {
          "base_uri": "https://localhost:8080/"
        },
        "id": "XK7MY24MfbbZ",
        "outputId": "e4f319e8-824d-4e6f-edc1-3ffb2132472e"
      },
      "execution_count": 1,
      "outputs": [
        {
          "output_type": "stream",
          "name": "stdout",
          "text": [
            "Collecting duckdb-engine\n",
            "  Downloading duckdb_engine-0.9.2-py3-none-any.whl (43 kB)\n",
            "     ━━━━━━━━━━━━━━━━━━━━━━━━━━━━━━━━━━━━━━━━ 43.1/43.1 kB 1.4 MB/s eta 0:00:00\n",
            "Requirement already satisfied: duckdb>=0.4.0 in /usr/local/lib/python3.10/dist-packages (from duckdb-engine) (0.8.1)\n",
            "Requirement already satisfied: sqlalchemy>=1.3.22 in /usr/local/lib/python3.10/dist-packages (from duckdb-engine) (2.0.20)\n",
            "Requirement already satisfied: typing-extensions>=4.2.0 in /usr/local/lib/python3.10/dist-packages (from sqlalchemy>=1.3.22->duckdb-engine) (4.7.1)\n",
            "Requirement already satisfied: greenlet!=0.4.17 in /usr/local/lib/python3.10/dist-packages (from sqlalchemy>=1.3.22->duckdb-engine) (2.0.2)\n",
            "Installing collected packages: duckdb-engine\n",
            "Successfully installed duckdb-engine-0.9.2\n"
          ]
        }
      ]
    },
    {
      "cell_type": "code",
      "source": [
        "# 標準ライブラリ\n",
        "import pandas as pd\n",
        "import numpy as np\n",
        "\n",
        "# DuckDB\n",
        "import duckdb"
      ],
      "metadata": {
        "id": "QhVpJKxmyRBw"
      },
      "execution_count": 2,
      "outputs": []
    },
    {
      "cell_type": "markdown",
      "source": [
        "## データ準備\n",
        "\n",
        "ID-POSのサンプルデータとして、下記を利用\n",
        "\n",
        "https://www.kyoritsu-pub.co.jp/book/b10003634.html"
      ],
      "metadata": {
        "id": "mBLPouZ1Sdmc"
      }
    },
    {
      "cell_type": "code",
      "source": [
        "%%bash\n",
        "wget https://kyoritsu-pub.sakura.ne.jp/app/file/goods_contents/2319.zip\n",
        "unzip /content/2319.zip\n",
        "unzip /content/DataProcess.20151001/src/data/Tafeng/Tafeng.zip"
      ],
      "metadata": {
        "id": "HX-PPH9NKnSP"
      },
      "execution_count": null,
      "outputs": []
    },
    {
      "cell_type": "code",
      "source": [
        "df = pd.read_csv(\"/content/Tafeng_dataset/Tafeng.csv\")\n",
        "\n",
        "# データ型を\n",
        "df = df.astype({'CustID': 'object', 'ProductSubClass': 'object', 'ProductID': 'object'})"
      ],
      "metadata": {
        "id": "xZRgSJhdLoiA"
      },
      "execution_count": 4,
      "outputs": []
    },
    {
      "cell_type": "markdown",
      "source": [
        "## データ集計"
      ],
      "metadata": {
        "id": "FbxgFucyZ6ss"
      }
    },
    {
      "cell_type": "code",
      "source": [
        "import duckdb\n",
        "\n",
        "# SQLに慣れている方にとっては、少々くどいかもしれませんが、可読性を高めるために、処理を１つ１つ分解してWITH句で実行しています。\n",
        "#\n",
        "# 私がBigQueryの文法に慣れていることもあり、次の3点で修正が必要でした。他にも微妙な差はありそうなので、都度都度直す必要がありますね。\n",
        "# ・コメントアウトは#は使わず、-- で行う\n",
        "# ・文字列はダブルコーテーション（ \" )ではなく、シングルクオーテーション（ ' )でくくる\n",
        "# ・日付項目は、文字列を自動で日付型化しないため、DATETIME '2000-11-01'のように日付型を明示的に指定する\n",
        "#\n",
        "\n",
        "df_output = duckdb.query(\n",
        "    f\"\"\"\n",
        "    WITH\n",
        "    t_base AS(\n",
        "      -- 商品コードごとの売上（単価×個数）の合計値を算出\n",
        "      -- 期間を、2000年11～12月に絞る\n",
        "      SELECT\n",
        "        ProductID,\n",
        "        SUM(SalesPrice * Amount) AS SalesTotal\n",
        "      FROM df\n",
        "      WHERE Time BETWEEN DATETIME '2000-11-01' AND DATETIME '2000-12-31'\n",
        "      GROUP BY ProductID\n",
        "    ),\n",
        "    t_standard AS(\n",
        "      -- 全体の売上のうち、70%を占める売上額・90%を占める売上額を算出\n",
        "      SELECT\n",
        "        SUM(SalesTotal) AS Sum_SalesTotal,\n",
        "      FROM t_base\n",
        "    ),\n",
        "    t_cumulative AS(\n",
        "      -- 売上を降順（高い順）でソートし、先頭からの累計売上額を算出\n",
        "      SELECT\n",
        "        ProductID,\n",
        "        SalesTotal,\n",
        "        SUM(SalesTotal) OVER (ORDER BY SalesTotal DESC) AS SalesCumulative\n",
        "      FROM t_base\n",
        "      ORDER BY SalesTotal DESC\n",
        "    )\n",
        "\n",
        "    SELECT\n",
        "      ProductID,\n",
        "      SalesTotal,\n",
        "      SalesCumulative,\n",
        "      SalesCumulative / Sum_SalesTotal AS Percentage_SalesCumulative,\n",
        "      -- 累計売上額が売上合計の70%以下の場合はランクA、90%以下の場合はランクB、それ以降はランクCとしてランク付け\n",
        "      CASE\n",
        "        WHEN SalesCumulative / Sum_SalesTotal <= 0.7 THEN 'A'\n",
        "        WHEN SalesCumulative / Sum_SalesTotal <= 0.9 THEN 'B'\n",
        "        ELSE 'C'\n",
        "      END AS SalesRank\n",
        "\n",
        "    FROM t_cumulative\n",
        "    FULL OUTER JOIN t_standard\n",
        "    ON TRUE\n",
        "    \"\"\"\n",
        ").to_df()"
      ],
      "metadata": {
        "id": "zJFaBTHxbx-b"
      },
      "execution_count": 5,
      "outputs": []
    },
    {
      "cell_type": "markdown",
      "source": [
        "作成したテーブルのアウトプット\n",
        "*   ProductID：商品コード。元々あって今回集計キーにした項目\n",
        "*   SalesTotal：商品コード別の総売上\n",
        "*   SalesCumulative：売上が高い順に並べたときの累積売上\n",
        "*   Percentage_SalesCumulative：累積売上が、売上全体の何％を占めるのか\n",
        "*   SalesRank：SalesRankで上位70%の売り上げを占める商品がA、90%を占める商品がB、それ以下がCとなっている"
      ],
      "metadata": {
        "id": "wlQRe8WIGBoT"
      }
    },
    {
      "cell_type": "code",
      "source": [
        " # データ確認\n",
        "df_output.head(100)"
      ],
      "metadata": {
        "colab": {
          "base_uri": "https://localhost:8080/",
          "height": 424
        },
        "id": "DYng-Qkhc1Y3",
        "outputId": "df29dc5c-4f9d-435f-8ea0-97a2a9be294f"
      },
      "execution_count": 6,
      "outputs": [
        {
          "output_type": "execute_result",
          "data": {
            "text/plain": [
              "        ProductID  SalesTotal  SalesCumulative  Percentage_SalesCumulative  \\\n",
              "0   4710421090059  53326498.0       53326498.0                    0.181332   \n",
              "1   8712045000151  33195168.0       86521666.0                    0.294209   \n",
              "2   8712045008539  31166212.0      117687878.0                    0.400187   \n",
              "3   4710628131012  19399462.0      137087340.0                    0.466153   \n",
              "4   8712045011317  13260422.0      150347762.0                    0.511244   \n",
              "..            ...         ...              ...                         ...   \n",
              "95  4710043552102    132647.0      221091153.0                    0.751801   \n",
              "96  4716821101203    129771.0      221220924.0                    0.752242   \n",
              "97       20563356    127922.0      221348846.0                    0.752677   \n",
              "98  4710205005750    125688.0      221474534.0                    0.753105   \n",
              "99  4714082270102    125517.0      221600051.0                    0.753531   \n",
              "\n",
              "   SalesRank  \n",
              "0          A  \n",
              "1          A  \n",
              "2          A  \n",
              "3          A  \n",
              "4          A  \n",
              "..       ...  \n",
              "95         B  \n",
              "96         B  \n",
              "97         B  \n",
              "98         B  \n",
              "99         B  \n",
              "\n",
              "[100 rows x 5 columns]"
            ],
            "text/html": [
              "\n",
              "  <div id=\"df-3256b7e6-5929-4ce9-9b23-a9d8461a5a9a\" class=\"colab-df-container\">\n",
              "    <div>\n",
              "<style scoped>\n",
              "    .dataframe tbody tr th:only-of-type {\n",
              "        vertical-align: middle;\n",
              "    }\n",
              "\n",
              "    .dataframe tbody tr th {\n",
              "        vertical-align: top;\n",
              "    }\n",
              "\n",
              "    .dataframe thead th {\n",
              "        text-align: right;\n",
              "    }\n",
              "</style>\n",
              "<table border=\"1\" class=\"dataframe\">\n",
              "  <thead>\n",
              "    <tr style=\"text-align: right;\">\n",
              "      <th></th>\n",
              "      <th>ProductID</th>\n",
              "      <th>SalesTotal</th>\n",
              "      <th>SalesCumulative</th>\n",
              "      <th>Percentage_SalesCumulative</th>\n",
              "      <th>SalesRank</th>\n",
              "    </tr>\n",
              "  </thead>\n",
              "  <tbody>\n",
              "    <tr>\n",
              "      <th>0</th>\n",
              "      <td>4710421090059</td>\n",
              "      <td>53326498.0</td>\n",
              "      <td>53326498.0</td>\n",
              "      <td>0.181332</td>\n",
              "      <td>A</td>\n",
              "    </tr>\n",
              "    <tr>\n",
              "      <th>1</th>\n",
              "      <td>8712045000151</td>\n",
              "      <td>33195168.0</td>\n",
              "      <td>86521666.0</td>\n",
              "      <td>0.294209</td>\n",
              "      <td>A</td>\n",
              "    </tr>\n",
              "    <tr>\n",
              "      <th>2</th>\n",
              "      <td>8712045008539</td>\n",
              "      <td>31166212.0</td>\n",
              "      <td>117687878.0</td>\n",
              "      <td>0.400187</td>\n",
              "      <td>A</td>\n",
              "    </tr>\n",
              "    <tr>\n",
              "      <th>3</th>\n",
              "      <td>4710628131012</td>\n",
              "      <td>19399462.0</td>\n",
              "      <td>137087340.0</td>\n",
              "      <td>0.466153</td>\n",
              "      <td>A</td>\n",
              "    </tr>\n",
              "    <tr>\n",
              "      <th>4</th>\n",
              "      <td>8712045011317</td>\n",
              "      <td>13260422.0</td>\n",
              "      <td>150347762.0</td>\n",
              "      <td>0.511244</td>\n",
              "      <td>A</td>\n",
              "    </tr>\n",
              "    <tr>\n",
              "      <th>...</th>\n",
              "      <td>...</td>\n",
              "      <td>...</td>\n",
              "      <td>...</td>\n",
              "      <td>...</td>\n",
              "      <td>...</td>\n",
              "    </tr>\n",
              "    <tr>\n",
              "      <th>95</th>\n",
              "      <td>4710043552102</td>\n",
              "      <td>132647.0</td>\n",
              "      <td>221091153.0</td>\n",
              "      <td>0.751801</td>\n",
              "      <td>B</td>\n",
              "    </tr>\n",
              "    <tr>\n",
              "      <th>96</th>\n",
              "      <td>4716821101203</td>\n",
              "      <td>129771.0</td>\n",
              "      <td>221220924.0</td>\n",
              "      <td>0.752242</td>\n",
              "      <td>B</td>\n",
              "    </tr>\n",
              "    <tr>\n",
              "      <th>97</th>\n",
              "      <td>20563356</td>\n",
              "      <td>127922.0</td>\n",
              "      <td>221348846.0</td>\n",
              "      <td>0.752677</td>\n",
              "      <td>B</td>\n",
              "    </tr>\n",
              "    <tr>\n",
              "      <th>98</th>\n",
              "      <td>4710205005750</td>\n",
              "      <td>125688.0</td>\n",
              "      <td>221474534.0</td>\n",
              "      <td>0.753105</td>\n",
              "      <td>B</td>\n",
              "    </tr>\n",
              "    <tr>\n",
              "      <th>99</th>\n",
              "      <td>4714082270102</td>\n",
              "      <td>125517.0</td>\n",
              "      <td>221600051.0</td>\n",
              "      <td>0.753531</td>\n",
              "      <td>B</td>\n",
              "    </tr>\n",
              "  </tbody>\n",
              "</table>\n",
              "<p>100 rows × 5 columns</p>\n",
              "</div>\n",
              "    <div class=\"colab-df-buttons\">\n",
              "\n",
              "  <div class=\"colab-df-container\">\n",
              "    <button class=\"colab-df-convert\" onclick=\"convertToInteractive('df-3256b7e6-5929-4ce9-9b23-a9d8461a5a9a')\"\n",
              "            title=\"Convert this dataframe to an interactive table.\"\n",
              "            style=\"display:none;\">\n",
              "\n",
              "  <svg xmlns=\"http://www.w3.org/2000/svg\" height=\"24px\" viewBox=\"0 -960 960 960\">\n",
              "    <path d=\"M120-120v-720h720v720H120Zm60-500h600v-160H180v160Zm220 220h160v-160H400v160Zm0 220h160v-160H400v160ZM180-400h160v-160H180v160Zm440 0h160v-160H620v160ZM180-180h160v-160H180v160Zm440 0h160v-160H620v160Z\"/>\n",
              "  </svg>\n",
              "    </button>\n",
              "\n",
              "  <style>\n",
              "    .colab-df-container {\n",
              "      display:flex;\n",
              "      gap: 12px;\n",
              "    }\n",
              "\n",
              "    .colab-df-convert {\n",
              "      background-color: #E8F0FE;\n",
              "      border: none;\n",
              "      border-radius: 50%;\n",
              "      cursor: pointer;\n",
              "      display: none;\n",
              "      fill: #1967D2;\n",
              "      height: 32px;\n",
              "      padding: 0 0 0 0;\n",
              "      width: 32px;\n",
              "    }\n",
              "\n",
              "    .colab-df-convert:hover {\n",
              "      background-color: #E2EBFA;\n",
              "      box-shadow: 0px 1px 2px rgba(60, 64, 67, 0.3), 0px 1px 3px 1px rgba(60, 64, 67, 0.15);\n",
              "      fill: #174EA6;\n",
              "    }\n",
              "\n",
              "    .colab-df-buttons div {\n",
              "      margin-bottom: 4px;\n",
              "    }\n",
              "\n",
              "    [theme=dark] .colab-df-convert {\n",
              "      background-color: #3B4455;\n",
              "      fill: #D2E3FC;\n",
              "    }\n",
              "\n",
              "    [theme=dark] .colab-df-convert:hover {\n",
              "      background-color: #434B5C;\n",
              "      box-shadow: 0px 1px 3px 1px rgba(0, 0, 0, 0.15);\n",
              "      filter: drop-shadow(0px 1px 2px rgba(0, 0, 0, 0.3));\n",
              "      fill: #FFFFFF;\n",
              "    }\n",
              "  </style>\n",
              "\n",
              "    <script>\n",
              "      const buttonEl =\n",
              "        document.querySelector('#df-3256b7e6-5929-4ce9-9b23-a9d8461a5a9a button.colab-df-convert');\n",
              "      buttonEl.style.display =\n",
              "        google.colab.kernel.accessAllowed ? 'block' : 'none';\n",
              "\n",
              "      async function convertToInteractive(key) {\n",
              "        const element = document.querySelector('#df-3256b7e6-5929-4ce9-9b23-a9d8461a5a9a');\n",
              "        const dataTable =\n",
              "          await google.colab.kernel.invokeFunction('convertToInteractive',\n",
              "                                                    [key], {});\n",
              "        if (!dataTable) return;\n",
              "\n",
              "        const docLinkHtml = 'Like what you see? Visit the ' +\n",
              "          '<a target=\"_blank\" href=https://colab.research.google.com/notebooks/data_table.ipynb>data table notebook</a>'\n",
              "          + ' to learn more about interactive tables.';\n",
              "        element.innerHTML = '';\n",
              "        dataTable['output_type'] = 'display_data';\n",
              "        await google.colab.output.renderOutput(dataTable, element);\n",
              "        const docLink = document.createElement('div');\n",
              "        docLink.innerHTML = docLinkHtml;\n",
              "        element.appendChild(docLink);\n",
              "      }\n",
              "    </script>\n",
              "  </div>\n",
              "\n",
              "\n",
              "<div id=\"df-ab2bfc5e-be49-4afa-bb3c-ecc93a6ef7f6\">\n",
              "  <button class=\"colab-df-quickchart\" onclick=\"quickchart('df-ab2bfc5e-be49-4afa-bb3c-ecc93a6ef7f6')\"\n",
              "            title=\"Suggest charts.\"\n",
              "            style=\"display:none;\">\n",
              "\n",
              "<svg xmlns=\"http://www.w3.org/2000/svg\" height=\"24px\"viewBox=\"0 0 24 24\"\n",
              "     width=\"24px\">\n",
              "    <g>\n",
              "        <path d=\"M19 3H5c-1.1 0-2 .9-2 2v14c0 1.1.9 2 2 2h14c1.1 0 2-.9 2-2V5c0-1.1-.9-2-2-2zM9 17H7v-7h2v7zm4 0h-2V7h2v10zm4 0h-2v-4h2v4z\"/>\n",
              "    </g>\n",
              "</svg>\n",
              "  </button>\n",
              "\n",
              "<style>\n",
              "  .colab-df-quickchart {\n",
              "    background-color: #E8F0FE;\n",
              "    border: none;\n",
              "    border-radius: 50%;\n",
              "    cursor: pointer;\n",
              "    display: none;\n",
              "    fill: #1967D2;\n",
              "    height: 32px;\n",
              "    padding: 0 0 0 0;\n",
              "    width: 32px;\n",
              "  }\n",
              "\n",
              "  .colab-df-quickchart:hover {\n",
              "    background-color: #E2EBFA;\n",
              "    box-shadow: 0px 1px 2px rgba(60, 64, 67, 0.3), 0px 1px 3px 1px rgba(60, 64, 67, 0.15);\n",
              "    fill: #174EA6;\n",
              "  }\n",
              "\n",
              "  [theme=dark] .colab-df-quickchart {\n",
              "    background-color: #3B4455;\n",
              "    fill: #D2E3FC;\n",
              "  }\n",
              "\n",
              "  [theme=dark] .colab-df-quickchart:hover {\n",
              "    background-color: #434B5C;\n",
              "    box-shadow: 0px 1px 3px 1px rgba(0, 0, 0, 0.15);\n",
              "    filter: drop-shadow(0px 1px 2px rgba(0, 0, 0, 0.3));\n",
              "    fill: #FFFFFF;\n",
              "  }\n",
              "</style>\n",
              "\n",
              "  <script>\n",
              "    async function quickchart(key) {\n",
              "      const charts = await google.colab.kernel.invokeFunction(\n",
              "          'suggestCharts', [key], {});\n",
              "    }\n",
              "    (() => {\n",
              "      let quickchartButtonEl =\n",
              "        document.querySelector('#df-ab2bfc5e-be49-4afa-bb3c-ecc93a6ef7f6 button');\n",
              "      quickchartButtonEl.style.display =\n",
              "        google.colab.kernel.accessAllowed ? 'block' : 'none';\n",
              "    })();\n",
              "  </script>\n",
              "</div>\n",
              "    </div>\n",
              "  </div>\n"
            ]
          },
          "metadata": {},
          "execution_count": 6
        }
      ]
    },
    {
      "cell_type": "code",
      "source": [
        "# ランク別の商品数\n",
        "df_output[\"SalesRank\"].value_counts().sort_values()"
      ],
      "metadata": {
        "colab": {
          "base_uri": "https://localhost:8080/"
        },
        "id": "jr0c7HzFFE8b",
        "outputId": "8e0f736e-d9de-4f9a-f48e-263a7c1807d1"
      },
      "execution_count": 7,
      "outputs": [
        {
          "output_type": "execute_result",
          "data": {
            "text/plain": [
              "A       29\n",
              "B     1662\n",
              "C    18587\n",
              "Name: SalesRank, dtype: int64"
            ]
          },
          "metadata": {},
          "execution_count": 7
        }
      ]
    },
    {
      "cell_type": "markdown",
      "source": [
        "売上全体の70%を占めるAランクの商品が、29商品（全体の1.4%）のみです。\n",
        "\n",
        "よく70%の売り上げを20%や30%の商品で占めるというケースがありますが、このデータだと圧倒的に上位商品が売り上げに貢献していますね。"
      ],
      "metadata": {
        "id": "598S8UrtHezt"
      }
    }
  ]
}